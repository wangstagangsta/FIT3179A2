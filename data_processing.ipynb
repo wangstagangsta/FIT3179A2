{
 "cells": [
  {
   "cell_type": "code",
   "execution_count": null,
   "id": "509865bb",
   "metadata": {},
   "outputs": [],
   "source": [
    "import pandas as pd\n",
    "import numpy as np\n",
    "\n",
    "src = \"data/Fire_For16-21_Attributes.csv\"\n",
    "df = pd.read_csv(src)\n",
    "\n",
    "fire_cols = [\"FIRE_1617\",\"FIRE_1718\",\"FIRE_1819\",\"FIRE_1920\",\"FIRE_2021\"]\n",
    "df = df[[\"STATE\",\"FOREST\",\"COUNT\"] + fire_cols].copy()\n",
    "df = df[df[\"FOREST\"] == 1]  # forest only\n",
    "\n",
    "long = df.melt(id_vars=[\"STATE\",\"COUNT\"], value_vars=fire_cols,\n",
    "               var_name=\"season\", value_name=\"code\")\n",
    "\n",
    "season_map = {\n",
    "    \"FIRE_1617\": \"2017\",\n",
    "    \"FIRE_1718\": \"2018\",\n",
    "    \"FIRE_1819\": \"2019\",\n",
    "    \"FIRE_1920\": \"2020\",\n",
    "    \"FIRE_2021\": \"2021\",\n",
    "}\n",
    "long[\"year\"] = long[\"season\"].map(season_map)\n",
    "\n",
    "long[\"code\"] = long[\"code\"].fillna(\" \")\n",
    "long[\"is_unplanned\"] = (long[\"code\"] == \"U\").astype(int)\n",
    "long[\"is_planned\"] = (long[\"code\"] == \"P\").astype(int)\n",
    "\n",
    "grp = long.groupby([\"STATE\",\"year\"]).agg(\n",
    "    pixels_forest=(\"COUNT\",\"sum\"),\n",
    "    pixels_unplanned=(\"is_unplanned\", lambda s: np.sum(s * long.loc[s.index, \"COUNT\"])),\n",
    "    pixels_planned=(\"is_planned\",   lambda s: np.sum(s * long.loc[s.index, \"COUNT\"])),\n",
    ").reset_index()\n",
    "\n",
    "grp[\"pct_unplanned_of_forest\"] = 100 * grp[\"pixels_unplanned\"] / grp[\"pixels_forest\"]\n",
    "grp[\"pct_planned_of_forest\"]   = 100 * grp[\"pixels_planned\"]   / grp[\"pixels_forest\"]\n",
    "grp.to_csv(\"fire_state_year.csv\", index=False)\n",
    "\n",
    "nat = grp.groupby(\"year\").agg(\n",
    "    pixels_forest=(\"pixels_forest\",\"sum\"),\n",
    "    pixels_unplanned=(\"pixels_unplanned\",\"sum\"),\n",
    "    pixels_planned=(\"pixels_planned\",\"sum\"),\n",
    ").reset_index()\n",
    "nat[\"pct_unplanned_of_forest\"] = 100 * nat[\"pixels_unplanned\"] / nat[\"pixels_forest\"]\n",
    "nat[\"pct_planned_of_forest\"]   = 100 * nat[\"pixels_planned\"]   / nat[\"pixels_forest\"]\n",
    "nat.to_csv(\"fire_national_year.csv\", index=False)\n",
    "\n",
    "base = grp.groupby(\"STATE\").agg(total_forest_pixels=(\"pixels_forest\",\"sum\")).reset_index()\n",
    "base.to_csv(\"fire_state_forest_totals.csv\", index=False)\n"
   ]
  },
  {
   "cell_type": "code",
   "execution_count": 1,
   "id": "d6480454",
   "metadata": {},
   "outputs": [],
   "source": [
    "import pandas as pd\n",
    "df = pd.read_csv(\"data/fire_state_year.csv\")\n",
    "df[\"STATE_YEAR\"] = df[\"STATE\"].astype(str) + \"-\" + df[\"year\"].astype(str)\n",
    "df.to_csv(\"data/fire_state_year.csv\", index=False)\n"
   ]
  }
 ],
 "metadata": {
  "kernelspec": {
   "display_name": "base",
   "language": "python",
   "name": "python3"
  },
  "language_info": {
   "codemirror_mode": {
    "name": "ipython",
    "version": 3
   },
   "file_extension": ".py",
   "mimetype": "text/x-python",
   "name": "python",
   "nbconvert_exporter": "python",
   "pygments_lexer": "ipython3",
   "version": "3.11.3"
  }
 },
 "nbformat": 4,
 "nbformat_minor": 5
}
